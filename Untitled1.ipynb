{
 "cells": [
  {
   "cell_type": "code",
   "execution_count": 1,
   "id": "4c026330",
   "metadata": {},
   "outputs": [],
   "source": [
    "import torch"
   ]
  },
  {
   "cell_type": "code",
   "execution_count": 3,
   "id": "7ad7ca6a",
   "metadata": {},
   "outputs": [
    {
     "data": {
      "text/plain": [
       "tensor([[-0.2918,  0.8443,  0.0734, -0.3711,  0.9654, -0.4262,  1.4228, -0.6632,\n",
       "          1.3209,  0.5938,  0.6471,  0.7345,  2.0066,  0.3618, -0.8256,  0.9200,\n",
       "         -2.1960, -0.0529,  1.2661,  0.2076],\n",
       "        [-1.3187, -0.0933,  0.7125,  0.2598,  1.2555, -1.6731,  1.4258,  0.6817,\n",
       "          0.4848, -1.5680, -0.7858,  0.4856,  0.0146, -0.0382, -0.0180, -0.2419,\n",
       "         -0.3930,  1.8584, -0.7340, -1.2158]])"
      ]
     },
     "execution_count": 3,
     "metadata": {},
     "output_type": "execute_result"
    }
   ],
   "source": [
    "torch.randn(2,20)"
   ]
  },
  {
   "cell_type": "code",
   "execution_count": null,
   "id": "caafbf7f",
   "metadata": {},
   "outputs": [],
   "source": []
  }
 ],
 "metadata": {
  "kernelspec": {
   "display_name": "Python 3 (ipykernel)",
   "language": "python",
   "name": "python3"
  },
  "language_info": {
   "codemirror_mode": {
    "name": "ipython",
    "version": 3
   },
   "file_extension": ".py",
   "mimetype": "text/x-python",
   "name": "python",
   "nbconvert_exporter": "python",
   "pygments_lexer": "ipython3",
   "version": "3.8.18"
  }
 },
 "nbformat": 4,
 "nbformat_minor": 5
}
